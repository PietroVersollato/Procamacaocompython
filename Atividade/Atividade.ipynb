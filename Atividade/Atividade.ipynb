{
  "nbformat": 4,
  "nbformat_minor": 0,
  "metadata": {
    "colab": {
      "provenance": [],
      "authorship_tag": "ABX9TyOXxa+459SsHrs8hG+0ONrS",
      "include_colab_link": true
    },
    "kernelspec": {
      "name": "python3",
      "display_name": "Python 3"
    },
    "language_info": {
      "name": "python"
    }
  },
  "cells": [
    {
      "cell_type": "markdown",
      "metadata": {
        "id": "view-in-github",
        "colab_type": "text"
      },
      "source": [
        "<a href=\"https://colab.research.google.com/github/PietroVersollato/Procamacaocompython/blob/main/Atividade/Atividade.ipynb\" target=\"_parent\"><img src=\"https://colab.research.google.com/assets/colab-badge.svg\" alt=\"Open In Colab\"/></a>"
      ]
    },
    {
      "cell_type": "markdown",
      "source": [
        "# 1) com parâmetro e com retorno:\n",
        "\n",
        "Você foi encarregado de criar um programa para calcular o valor total de uma compra em um supermercado. Crie uma função chamada calcular_total_compra que receba como parâmetro uma lista de preços dos itens comprados e retorne o valor total a ser pago.\n",
        "\n",
        "No programa principal:\n",
        "\n",
        "Peça ao usuário para informar quantos itens ele comprou.\n",
        "Para cada item, solicite o preço e armazene em uma lista.\n",
        "Chame a função e exiba o valor total da compra."
      ],
      "metadata": {
        "id": "EJJAyKDl4twS"
      }
    },
    {
      "cell_type": "code",
      "execution_count": 15,
      "metadata": {
        "id": "voKFriQv4fVD",
        "colab": {
          "base_uri": "https://localhost:8080/"
        },
        "outputId": "9f8a204f-8702-4ae1-c368-cd667c2eb2fd"
      },
      "outputs": [
        {
          "output_type": "stream",
          "name": "stdout",
          "text": [
            "Quantos itens você comprou? 3\n",
            "Digite o preço do item 1: 10.50\n",
            "Digite o preço do item 2: 5.20\n",
            "Digite o preço do item 3: 8.30\n",
            "O valor total da compra é: R$24.00\n"
          ]
        }
      ],
      "source": [
        "def calcular_total_compra(precos):\n",
        "    total = sum(precos)\n",
        "    return total\n",
        "\n",
        "quantidade_itens = int(input(\"Quantos itens você comprou? \"))\n",
        "\n",
        "precos = []\n",
        "\n",
        "for i in range(quantidade_itens):\n",
        "  preco = float(input(f\"Digite o preço do item {i+1}: \"))\n",
        "  precos.append(preco)\n",
        "\n",
        "total_compra = calcular_total_compra(precos)\n",
        "print(f\"O valor total da compra é: R${total_compra:.2f}\")"
      ]
    },
    {
      "cell_type": "markdown",
      "source": [
        "# 2) Função Sem parâmetro e com retorno\n",
        "\n",
        "Você está organizando uma eleição fictícia com três candidatos. Crie uma função chamada realizar_votacao que:\n",
        "\n",
        "Solicite ao usuário que vote em um dos três candidatos, identificados por números (1, 2 ou 3).\n",
        "Permita que a votação continue até que o usuário digite 0 para encerrar.\n",
        "Ao final, exiba o número total de votos para cada candidato.\n",
        "A função não deve receber parâmetros nem retornar valores; apenas realizar a votação e exibir os resultados no final."
      ],
      "metadata": {
        "id": "11EjrL404xE7"
      }
    },
    {
      "cell_type": "code",
      "source": [
        "def realizar_votacao():\n",
        "    votos_candidato1 = 0\n",
        "    votos_candidato2 = 0\n",
        "    votos_candidato3 = 0\n",
        "\n",
        "    while True:\n",
        "        voto = int(input(\"Digite seu voto (1, 2, 3) ou 0 para encerrar: \"))\n",
        "        if voto == 0:\n",
        "          break\n",
        "        elif voto == 1:\n",
        "         votos_candidato1 += 1\n",
        "        elif voto == 2:\n",
        "         votos_candidato2 += 1\n",
        "        elif voto == 3:\n",
        "         votos_candidato3 += 1\n",
        "        else:\n",
        "          print(\"Voto inválido. Digite 1, 2, 3 ou 0.\")\n",
        "\n",
        "    print(\"\\nResultados da votação:\")\n",
        "    print(\"Candidato 1:\", votos_candidato1, \"votos\")\n",
        "    print(\"Candidato 2:\", votos_candidato2, \"votos\")\n",
        "    print(\"Candidato 3:\", votos_candidato3, \"votos\")\n",
        "\n",
        "realizar_votacao()"
      ],
      "metadata": {
        "colab": {
          "base_uri": "https://localhost:8080/"
        },
        "id": "VUoWBdDs8z1M",
        "outputId": "13f6b2f1-6647-457c-b48d-11c26585897c"
      },
      "execution_count": 17,
      "outputs": [
        {
          "output_type": "stream",
          "name": "stdout",
          "text": [
            "Digite seu voto (1, 2, 3) ou 0 para encerrar: 2\n",
            "Digite seu voto (1, 2, 3) ou 0 para encerrar: 2\n",
            "Digite seu voto (1, 2, 3) ou 0 para encerrar: 2\n",
            "Digite seu voto (1, 2, 3) ou 0 para encerrar: 2\n",
            "Digite seu voto (1, 2, 3) ou 0 para encerrar: 2\n",
            "Digite seu voto (1, 2, 3) ou 0 para encerrar: 2\n",
            "Digite seu voto (1, 2, 3) ou 0 para encerrar: 0\n",
            "\n",
            "Resultados da votação:\n",
            "Candidato 1: 0 votos\n",
            "Candidato 2: 6 votos\n",
            "Candidato 3: 0 votos\n"
          ]
        }
      ]
    }
  ]
}
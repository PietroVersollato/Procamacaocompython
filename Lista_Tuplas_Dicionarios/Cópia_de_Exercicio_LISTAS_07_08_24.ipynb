{
  "nbformat": 4,
  "nbformat_minor": 0,
  "metadata": {
    "colab": {
      "provenance": [],
      "include_colab_link": true
    },
    "kernelspec": {
      "name": "python3",
      "display_name": "Python 3"
    },
    "language_info": {
      "name": "python"
    }
  },
  "cells": [
    {
      "cell_type": "markdown",
      "metadata": {
        "id": "view-in-github",
        "colab_type": "text"
      },
      "source": [
        "<a href=\"https://colab.research.google.com/github/PietroVersollato/Procamacaocompython/blob/main/Lista_Tuplas_Dicionarios/C%C3%B3pia_de_Exercicio_LISTAS_07_08_24.ipynb\" target=\"_parent\"><img src=\"https://colab.research.google.com/assets/colab-badge.svg\" alt=\"Open In Colab\"/></a>"
      ]
    },
    {
      "cell_type": "markdown",
      "source": [
        "# **Exercícios utilizando Listas Python**"
      ],
      "metadata": {
        "id": "Fv1r44TLwVKM"
      }
    },
    {
      "cell_type": "markdown",
      "source": [
        "## 1. Soma dos Elementos da Lista\n",
        "Dada uma lista de números, calcule a soma de todos os elementos."
      ],
      "metadata": {
        "id": "b9nEDJF0wjrc"
      }
    },
    {
      "cell_type": "code",
      "execution_count": null,
      "metadata": {
        "id": "woHYcqQCwA-u"
      },
      "outputs": [],
      "source": [
        "# Seu código aqui...\n",
        "lista = [1, 2, 3, 4, 5]\n",
        "soma = 0\n",
        "for i in lista:\n",
        "  soma += i\n",
        "print(soma)"
      ]
    },
    {
      "cell_type": "markdown",
      "source": [
        "## 2. Produto dos elementos da lista\n",
        "Dada uma lista de números, calcule o produto de todos os elementos."
      ],
      "metadata": {
        "id": "jRKcmWKiw0z8"
      }
    },
    {
      "cell_type": "code",
      "source": [
        "# Seu código aqui...\n",
        "lista2 = [1, 2, 3, 4, 5]\n",
        "produto = 1\n",
        "for i in lista2:\n",
        "  produto *= i\n",
        "print(produto)"
      ],
      "metadata": {
        "id": "fLbEGjowwaZe"
      },
      "execution_count": null,
      "outputs": []
    },
    {
      "cell_type": "markdown",
      "source": [
        "## 3. Encontre o menor elemento\n",
        "Dada uma lista de números, encontre o menor elemento."
      ],
      "metadata": {
        "id": "-Er6OsAyxFQj"
      }
    },
    {
      "cell_type": "code",
      "source": [
        "# Seu código aqui...\n",
        "lista3 = [1, 2, 3, 4, 5]\n",
        "min(lista3)"
      ],
      "metadata": {
        "id": "KVoiJ_u0xKvc"
      },
      "execution_count": null,
      "outputs": []
    },
    {
      "cell_type": "markdown",
      "source": [
        "## 4. Encontre o maior elemento\n",
        "Dada uma lista de números, encontre o maior elemento."
      ],
      "metadata": {
        "id": "WXYaMI7FxQXk"
      }
    },
    {
      "cell_type": "code",
      "source": [
        "# Seu código aqui...\n",
        "lista4 = [1, 2, 3, 4, 5]\n",
        "max(lista4)"
      ],
      "metadata": {
        "id": "DoNhSLyuxb19"
      },
      "execution_count": null,
      "outputs": []
    },
    {
      "cell_type": "markdown",
      "source": [
        "## 5. Contar Ocorrências de um Elemento\n",
        "Dada uma lista de números e um número alvo, conte quantas vezes o alvo aparece na lista."
      ],
      "metadata": {
        "id": "BkHVHCiPxgTs"
      }
    },
    {
      "cell_type": "code",
      "source": [
        "# Seu código aqui...\n",
        "lista5 = [1, 2, 3, 4, 3, 2, 1]\n",
        "lista5.count(3)"
      ],
      "metadata": {
        "id": "Hreq56gixmYC"
      },
      "execution_count": null,
      "outputs": []
    },
    {
      "cell_type": "markdown",
      "source": [
        "## 6. Remover duplicatas\n",
        "Dada uma lista de números, crie uma nova lista sem elementos duplicados."
      ],
      "metadata": {
        "id": "zSsy12F-xrVT"
      }
    },
    {
      "cell_type": "code",
      "source": [
        "# Seu código aqui...\n",
        "lista6 = [1, 2, 2, 3, 4, 4, 5]\n",
        "lista6 = list(set(lista6))\n",
        "print(lista6)"
      ],
      "metadata": {
        "id": "9N35r8abxydM"
      },
      "execution_count": null,
      "outputs": []
    },
    {
      "cell_type": "markdown",
      "source": [
        "## 7. Inverter uma lista\n",
        "Dada uma lista de números, inverta a ordem dos elementos."
      ],
      "metadata": {
        "id": "Ev1YAUF9x3o8"
      }
    },
    {
      "cell_type": "code",
      "source": [
        "# Seu código aqui...\n",
        "lista6 = [1, 2, 3, 4, 5]\n",
        "lista6.reverse()\n",
        "print(lista6)"
      ],
      "metadata": {
        "id": "X8YLy9uqx9kz"
      },
      "execution_count": null,
      "outputs": []
    },
    {
      "cell_type": "markdown",
      "source": [
        "## 8. Intercalar Duas Listas\n",
        "Dadas duas listas de números, crie uma nova lista intercalando os elementos das duas listas."
      ],
      "metadata": {
        "id": "1k2bPDTPyB-L"
      }
    },
    {
      "cell_type": "code",
      "source": [
        "# Seu código aqui...\n",
        "lista81 = [1, 3, 5]\n",
        "lista82 = [2, 4, 6]\n",
        "lista83 = lista81 + lista82\n",
        "print(lista83)"
      ],
      "metadata": {
        "id": "TXajIrGxyH3j"
      },
      "execution_count": null,
      "outputs": []
    },
    {
      "cell_type": "markdown",
      "source": [
        "## 9. Somar Elementos Correspondentes de Duas Listas\n",
        "Dadas duas listas de números de mesmo tamanho, crie uma nova lista com a soma dos elementos correspondentes."
      ],
      "metadata": {
        "id": "ewiPtV9MyP1q"
      }
    },
    {
      "cell_type": "code",
      "source": [
        "# Seu código aqui...\n",
        "lista91 = [1, 2, 3]\n",
        "lista92 = [4, 5, 6]\n",
        "lista93 = []\n",
        "for i in range(len(lista91)):\n",
        "  lista93.append(lista91[i] + lista92[i])\n",
        "print(lista93)"
      ],
      "metadata": {
        "id": "0-4qe89uyVWT"
      },
      "execution_count": null,
      "outputs": []
    },
    {
      "cell_type": "markdown",
      "source": [
        "## 10. Mover Zeros para o Fim\n",
        "Dada uma lista de números, mova todos os zeros para o final da lista."
      ],
      "metadata": {
        "id": "QX-QkQg5ybQa"
      }
    },
    {
      "cell_type": "code",
      "source": [
        "lista10 = [1, 0, 3, 0, 5]\n",
        "for i in lista10:\n",
        "  if i == 0:\n",
        "    lista10.remove(i)\n",
        "    lista10.append(i)\n",
        "print(lista10)"
      ],
      "metadata": {
        "colab": {
          "base_uri": "https://localhost:8080/"
        },
        "id": "BFfrfFVCo1uq",
        "outputId": "3f40b01e-72ad-418b-b934-be1034f89378"
      },
      "execution_count": 1,
      "outputs": [
        {
          "output_type": "stream",
          "name": "stdout",
          "text": [
            "[1, 3, 5, 0, 0]\n"
          ]
        }
      ]
    },
    {
      "cell_type": "markdown",
      "source": [
        "# **Exercícios**\n",
        "##Exercício 1: Manipulação de Listas\n",
        "\n",
        "- Defina uma lista com 5 nomes de cidades.\n",
        "- Adicione uma nova cidade ao final da lista.\n",
        "- Remova a segunda cidade da lista.\n",
        "- Imprima a lista resultante."
      ],
      "metadata": {
        "id": "7527w3cl5v-w"
      }
    },
    {
      "cell_type": "code",
      "source": [
        "# seu código aqui...\n",
        "cidades = ['São Paulo', 'Rio de Janeiro', 'Belo Horizonte', 'Porto Alegre', 'Curitiba']\n",
        "cidades.append('Belém')\n",
        "cidades.remove('Rio de Janeiro')\n",
        "print(cidades)"
      ],
      "metadata": {
        "id": "pvVrDEN9iFJL"
      },
      "execution_count": null,
      "outputs": []
    },
    {
      "cell_type": "markdown",
      "source": [
        "##Exercício 2: Operações com Tuplas\n",
        "\n",
        "- Defina uma tupla com 4 cores.\n",
        "- Crie uma nova tupla que seja a concatenação da tupla original com outra contendo mais 2 cores.\n",
        "- Imprima a nova tupla."
      ],
      "metadata": {
        "id": "pWmy_Ap450UT"
      }
    },
    {
      "cell_type": "code",
      "source": [
        "# seu código aqui...\n",
        "cores = (\"ciano\", \"violeta\", \"azul\", \"ferrugem\")\n",
        "novas_cores = cores + (\"rosa\", \"laranja\")\n",
        "print(novas_cores)"
      ],
      "metadata": {
        "id": "5KPhSsOtiLby"
      },
      "execution_count": null,
      "outputs": []
    },
    {
      "cell_type": "markdown",
      "source": [
        "##Exercício 3: Dicionários Simples\n",
        "\n",
        "Crie um dicionário para representar um aluno, contendo \"nome\", \"idade\" e \"curso\".\n",
        "- Atualize a idade do aluno.\n",
        "- Adicione uma nova chave \"nota\" com um valor.\n",
        "- Imprima o dicionário atualizado"
      ],
      "metadata": {
        "id": "XAg72gPN59St"
      }
    },
    {
      "cell_type": "code",
      "source": [
        "# seu código aqui...\n",
        "aluno = {\n",
        "    \"nome\": \"João\",\n",
        "    \"idade\": 20,\n",
        "    \"curso\": \"Engenharia\"\n",
        "}\n",
        "aluno[\"idade\"] = 21\n",
        "aluno[\"nota\"] = 8.5\n",
        "print(aluno)"
      ],
      "metadata": {
        "id": "Bb-Tg9LYiSCY"
      },
      "execution_count": null,
      "outputs": []
    },
    {
      "cell_type": "markdown",
      "source": [
        "##Exercício 4: Listas e Dicionários\n",
        "\n",
        "- Crie uma lista de dicionários, onde cada dicionário representa um produto com as chaves \"nome\" e \"preço\".\n",
        "- Adicione um novo produto à lista.\n",
        "- Atualize o preço do primeiro produto na lista.\n",
        "- Imprima a lista resultante."
      ],
      "metadata": {
        "id": "aYfjx165iT8j"
      }
    },
    {
      "cell_type": "code",
      "source": [
        "# seu código aqui...\n",
        "produtos = {\n",
        "    \"Camisa\": 29.90,\n",
        "    \"Calça\": 54.90\n",
        "}\n",
        "produtos[\"Blusa\"] = 39.90\n",
        "produtos[\"Moletom\"] = 34.90\n",
        "print(produtos)"
      ],
      "metadata": {
        "id": "BR93YwW9iVxZ"
      },
      "execution_count": null,
      "outputs": []
    },
    {
      "cell_type": "markdown",
      "source": [
        "##Exercício 5: Analisando uma Lista de Tuplas\n",
        "\n",
        "- Crie uma lista de tuplas, onde cada tupla contém um par (nome, idade).\n",
        "- Encontre e imprima o nome da pessoa mais velha.\n",
        "- Encontre e imprima a idade média das pessoas."
      ],
      "metadata": {
        "id": "5yZSmegfiXSw"
      }
    },
    {
      "cell_type": "code",
      "source": [
        "# seu código aqui...\n",
        "pessoa = [(\"João\", 32 , \"Maria\", 20 , \"Pedro\", 22)]"
      ],
      "metadata": {
        "id": "aJSnTfGaiZAi"
      },
      "execution_count": null,
      "outputs": []
    },
    {
      "cell_type": "markdown",
      "source": [
        "# **Manipulação de strings**"
      ],
      "metadata": {
        "id": "troExQLhjDGn"
      }
    },
    {
      "cell_type": "markdown",
      "source": [
        "# 1 - Use o método len para imprimir o comprimento da string."
      ],
      "metadata": {
        "id": "gDDAoyf8jGh8"
      }
    },
    {
      "cell_type": "code",
      "source": [
        "# 1 - Use o método len para imprimir o comprimento da string.\n",
        "x = \"Hello World\"\n",
        "print(len(x))"
      ],
      "metadata": {
        "id": "A0Ym6otDjHP5"
      },
      "execution_count": null,
      "outputs": []
    },
    {
      "cell_type": "code",
      "source": [
        "# 2 - Obtenha o primeiro caractere da string txt.\n",
        "txt = \"Hello World\"\n",
        "x = txt[0]\n",
        "print(x)"
      ],
      "metadata": {
        "id": "-HwxYMFuoZLT"
      },
      "execution_count": null,
      "outputs": []
    },
    {
      "cell_type": "code",
      "source": [
        "# 3 - Obtenha os caracteres do índice 2 ao índice 4 ( llo).\n",
        "txt = \"Hello World\"\n",
        "x = txt[2:5]\n",
        "print(x)"
      ],
      "metadata": {
        "id": "7ckCoU9ZoZpD"
      },
      "execution_count": null,
      "outputs": []
    },
    {
      "cell_type": "code",
      "source": [
        "# 4 - Converta o valor de txt para maiúsculas.\n",
        "txt = \"Hello World\"\n",
        "txt = txt.upper()\n",
        "print(txt)"
      ],
      "metadata": {
        "id": "cRMosHOOobLJ"
      },
      "execution_count": null,
      "outputs": []
    },
    {
      "cell_type": "code",
      "source": [
        "# 5 - Conte quantas vezes aparece a palavra \"de\" na string abaixo\n",
        "txt = \"Eu gosto de vijar, tomar vinho, de estudar estudar programação, de estudar Pyhon\"\n",
        "txt = txt.count(\"de\")\n",
        "print(txt)"
      ],
      "metadata": {
        "id": "wiWSYxrCociK"
      },
      "execution_count": null,
      "outputs": []
    },
    {
      "cell_type": "code",
      "source": [
        "# 6 - Separe a frase abaixo toda vez que encontrar um vírgula\n",
        "txt = \"Eu gosto de vijar, tomar vinho, de estudar estudar programação, de estudar Pyhon\"\n",
        "txt = txt.split(\",\")\n",
        "print(txt)"
      ],
      "metadata": {
        "id": "8DwUUIAWoeAb"
      },
      "execution_count": null,
      "outputs": []
    },
    {
      "cell_type": "code",
      "source": [
        "#7 - Peça ao usuário uma frase e substitua todas as ocorrências de espaço por “#”.\n",
        "frase = input(\"Digite uma frase: \")\n",
        "frase = frase.replace(\" \", \"#\")\n",
        "print(frase)"
      ],
      "metadata": {
        "id": "idebZuEDofnN"
      },
      "execution_count": null,
      "outputs": []
    },
    {
      "cell_type": "code",
      "source": [
        "# 8 - Faça um programa que retorne True se duas strings lidas do teclado são palíndromas mútuas, ou seja, se uma é igual à outra quando lida de traz para frente ou False, se não forem.\n",
        "# Por exemplo: amor e roma\n",
        "pala = input(\"Digite uma palavra: \")\n",
        "pala2 = input(\"Digite outra palavra: \")\n",
        "if pala == pala2[::-1]:\n",
        "    print(\"True\")\n",
        "else:\n",
        "    print(\"False\")"
      ],
      "metadata": {
        "id": "RZcBUkA2og8D"
      },
      "execution_count": null,
      "outputs": []
    },
    {
      "cell_type": "code",
      "source": [
        "# 9- Faça um programa que leia o nome do usuário e mostre o nome de traz para frente, utilizando somente letras maiúsculas.\n",
        "nome = input(\"Digite seu nome: \")\n",
        "nome = nome.upper()\n",
        "nome = nome[::-1]\n",
        "print(nome)"
      ],
      "metadata": {
        "id": "TuxDeJWLojMr"
      },
      "execution_count": null,
      "outputs": []
    },
    {
      "cell_type": "markdown",
      "source": [
        "# Tuplas - Acesso e Desempacotamento\n",
        "\n",
        "1) Crie uma tupla contendo três tipos diferentes de dados: um número, uma string e uma lista. Use um laço de repetição para acessar e imprimir cada item da tupla. Além disso, dentro do laço, acesse e imprima o segundo item da lista que está dentro da tupla."
      ],
      "metadata": {
        "id": "3BeMbZVoprOj"
      }
    },
    {
      "cell_type": "code",
      "source": [
        "dados = (12, \"Pietro\",[3,21,1])\n",
        "\n",
        "for i in dados:\n",
        "  print(i)"
      ],
      "metadata": {
        "id": "jFftG0oDpttP"
      },
      "execution_count": null,
      "outputs": []
    },
    {
      "cell_type": "markdown",
      "source": [
        "# Dicionários - Criação e Acesso\n",
        "## Cadastro de Pessoas e Análise de Alturas\n",
        "2) Solicite ao usuário para inserir o nome e a altura de várias pessoas. Preencha um dicionário com essas informações e depois encontre e imprima o nome e a altura da pessoa mais alta e da mais baixa."
      ],
      "metadata": {
        "id": "5C9PZVk9pwIG"
      }
    },
    {
      "cell_type": "code",
      "source": [
        "pessoas = {}\n",
        "\n",
        "while True:\n",
        "    nome = input(\"Insira o nome da pessoa (ou digite 'sair' para encerrar): \")\n",
        "    if nome.lower() == 'sair':\n",
        "        break\n",
        "    altura = float(input(f\"Insira a altura de {nome} em metros: \"))\n",
        "    pessoas[nome] = altura\n",
        "\n",
        "if pessoas:\n",
        "    mais_alta = max(pessoas, key=pessoas.get)\n",
        "    mais_baixa = min(pessoas, key=pessoas.get)\n",
        "\n",
        "    print(f\"A pessoa mais alta é {mais_alta} com {pessoas[mais_alta]} metros.\")\n",
        "    print(f\"A pessoa mais baixa é {mais_baixa} com {pessoas[mais_baixa]} metros.\")\n",
        "else:\n",
        "    print(\"Nenhuma pessoa foi cadastrada.\")"
      ],
      "metadata": {
        "id": "dxdMf0bVpyXv"
      },
      "execution_count": null,
      "outputs": []
    },
    {
      "cell_type": "markdown",
      "source": [
        "# Lista, laços e Condicionais\n",
        "3) Descrição: Crie uma lista com cinco números inteiros. Use um laço de repetição e uma condicional para imprimir apenas os números que são múltiplos de 3."
      ],
      "metadata": {
        "id": "lmXqgjFZp0M3"
      }
    },
    {
      "cell_type": "code",
      "source": [
        "num = [1,2,3,4,5,6,7,8,9,13,15]\n",
        "for i in num:\n",
        "  if i % 3 == 0:\n",
        "    print(i)"
      ],
      "metadata": {
        "id": "zwf4zJMTp278"
      },
      "execution_count": null,
      "outputs": []
    },
    {
      "cell_type": "markdown",
      "source": [
        "# Manipulação de Strings e Condicionais\n",
        "4) Descrição: Crie uma string com uma frase. Use uma condicional para verificar se a frase contém a palavra \"Python\". Se sim, substitua a palavra \"Python\" por \"programação\" e imprima a nova frase."
      ],
      "metadata": {
        "id": "vK3GcQeQp4lk"
      }
    },
    {
      "cell_type": "code",
      "source": [
        "p = 'Python é uma das linguagens de programação'\n",
        "if 'Python' in p:\n",
        "  print(p.replace('Python','Programação'))"
      ],
      "metadata": {
        "id": "T30CjUfqp6kn"
      },
      "execution_count": null,
      "outputs": []
    },
    {
      "cell_type": "markdown",
      "source": [
        "# Simulação de Alfândega com Cadastro Dinâmico de Itens usando dicionário\n",
        "5) Simule uma situação de alfândega onde o funcionário cadastra itens novos encontrados na mala de uma pessoa que veio de uma viagem internacional. Após o cadastro de todos os itens, o programa imprime uma nota com todos os itens e seus preços, calcula o valor total e, se o valor total ultrapassar 500 dólares, calcula o valor de 60% a ser pago."
      ],
      "metadata": {
        "id": "71x0n8EJp8aL"
      }
    },
    {
      "cell_type": "code",
      "source": [
        "preco = 0\n",
        "nota = 0\n",
        "while True:\n",
        "  item = input(\"Digite o item: \")\n",
        "  preco = float(input(\"Digite o preço: \"))\n",
        "  nota = nota + preco\n",
        "  continuar = input(\"Deseja continuar? (s/n)\")\n",
        "  if continuar == \"n\":\n",
        "    break\n",
        "print(\"Preço normal\", nota)\n",
        "if nota > 500:\n",
        "  print(\"Valor total para ser pago\", nota + nota * 0.6)"
      ],
      "metadata": {
        "id": "dpmZk2t5p-3B"
      },
      "execution_count": null,
      "outputs": []
    },
    {
      "cell_type": "markdown",
      "source": [
        "# Identificação de Palavras Negativas em um Texto\n",
        "6) Você vai criar um programa em Python para analisar um texto e identificar palavras que expressam pensamentos negativos. Para isso, você usará uma lista de palavras negativas fornecida e verificará quais dessas palavras estão presentes no texto fornecido pelo usuário. Exemplo de palavras negtivas, acrescente mais na lista: # Lista de palavras negativas palavras_negativas = ['triste', 'deprimido', 'ansioso', 'desapontado', 'frustrado']"
      ],
      "metadata": {
        "id": "7kMybD7gqA0F"
      }
    },
    {
      "cell_type": "code",
      "source": [
        "negativas = ['triste', 'deprimido', 'ansioso', 'desapontado', 'frustrado']\n",
        "texto = input(\"Digite o texto: \")\n",
        "texto = texto.split()\n",
        "for i in texto:\n",
        "  if i in negativas:\n",
        "    print(\"A palavra\", i, \"é negativa\")"
      ],
      "metadata": {
        "id": "97FDafpHqDTa"
      },
      "execution_count": null,
      "outputs": []
    }
  ]
}